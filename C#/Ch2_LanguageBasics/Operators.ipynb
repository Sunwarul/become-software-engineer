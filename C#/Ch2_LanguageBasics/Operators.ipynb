{
 "cells": [
  {
   "cell_type": "markdown",
   "metadata": {},
   "source": [
    "# Operators"
   ]
  },
  {
   "cell_type": "code",
   "execution_count": null,
   "metadata": {
    "dotnet_interactive": {
     "language": "csharp"
    }
   },
   "outputs": [],
   "source": [
    "void print<T>(T t) { Console.WriteLine(t); }"
   ]
  },
  {
   "cell_type": "code",
   "execution_count": null,
   "metadata": {
    "dotnet_interactive": {
     "language": "csharp"
    }
   },
   "outputs": [
    {
     "name": "stdout",
     "output_type": "stream",
     "text": [
      "7\r\n",
      "3\r\n",
      "10\r\n",
      "2.5\r\n",
      "1\r\n",
      "False\r\n",
      "True\r\n"
     ]
    }
   ],
   "source": [
    "print(5 + 2);\n",
    "print(5 - 2);\n",
    "print(5 * 2);\n",
    "print(5.0 / 2);\n",
    "\n",
    "print(5 % 2);\n",
    "\n",
    "print(true && false);\n",
    "print(true || false);"
   ]
  }
 ],
 "metadata": {
  "kernelspec": {
   "display_name": ".NET (C#)",
   "language": "C#",
   "name": ".net-csharp"
  },
  "language_info": {
   "file_extension": ".cs",
   "mimetype": "text/x-csharp",
   "name": "C#",
   "pygments_lexer": "csharp",
   "version": "9.0"
  },
  "orig_nbformat": 4
 },
 "nbformat": 4,
 "nbformat_minor": 2
}
