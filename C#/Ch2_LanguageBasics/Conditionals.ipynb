{
 "cells": [
  {
   "cell_type": "markdown",
   "metadata": {},
   "source": [
    "# Conditionals"
   ]
  },
  {
   "cell_type": "code",
   "execution_count": null,
   "metadata": {
    "dotnet_interactive": {
     "language": "csharp"
    }
   },
   "outputs": [],
   "source": [
    "void print<T>(T t) { Console.WriteLine(t); }"
   ]
  },
  {
   "cell_type": "code",
   "execution_count": null,
   "metadata": {
    "dotnet_interactive": {
     "language": "csharp"
    }
   },
   "outputs": [
    {
     "name": "stdout",
     "output_type": "stream",
     "text": [
      "Successful\r\n"
     ]
    }
   ],
   "source": [
    "bool isSuccess = true;\n",
    "if(isSuccess == true) {\n",
    "    print(\"Successful\");\n",
    "} else if(isSuccess == false) {\n",
    "    print(\"Unsuccessful\");\n",
    "} else {\n",
    "    print(\"Undefined result.\");\n",
    "}"
   ]
  },
  {
   "cell_type": "code",
   "execution_count": null,
   "metadata": {
    "dotnet_interactive": {
     "language": "csharp"
    }
   },
   "outputs": [
    {
     "name": "stdout",
     "output_type": "stream",
     "text": [
      "0 2 4 6 8 10 12 14 16 18 20 22 24 26 28 30 32 34 36 38 40 42 44 46 48 50 "
     ]
    }
   ],
   "source": [
    "int i = 0;\n",
    "while(i <= 50) {\n",
    "    Console.Write(i + \" \");\n",
    "    i += 2;\n",
    "}"
   ]
  },
  {
   "cell_type": "code",
   "execution_count": null,
   "metadata": {
    "dotnet_interactive": {
     "language": "csharp"
    }
   },
   "outputs": [
    {
     "name": "stdout",
     "output_type": "stream",
     "text": [
      "Ran atleast one\r\n"
     ]
    }
   ],
   "source": [
    "do {\n",
    "    Console.WriteLine(\"Ran atleast one\");\n",
    "} while(false);"
   ]
  },
  {
   "cell_type": "code",
   "execution_count": null,
   "metadata": {
    "dotnet_interactive": {
     "language": "csharp"
    }
   },
   "outputs": [
    {
     "name": "stdout",
     "output_type": "stream",
     "text": [
      "Even\r\n"
     ]
    }
   ],
   "source": [
    "// Even / Odd Number\n",
    "double num = double.Parse(\"0.3\");\n",
    "long N = (long) num;\n",
    "\n",
    "if(N % 2 == 0) {\n",
    "    print(\"Even\");\n",
    "} else if(N % 2 != 0) {\n",
    "    print(\"Odd\");\n",
    "} else {\n",
    "    print(\"Not even, nor Odd\");\n",
    "}"
   ]
  }
 ],
 "metadata": {
  "interpreter": {
   "hash": "a3dcae99e0c96c0240b0e025e65aa7c20ad515fb4b855645a18aced3d0a49224"
  },
  "kernelspec": {
   "display_name": ".NET (C#)",
   "language": "C#",
   "name": ".net-csharp"
  },
  "language_info": {
   "file_extension": ".cs",
   "mimetype": "text/x-csharp",
   "name": "C#",
   "pygments_lexer": "csharp",
   "version": "9.0"
  }
 },
 "nbformat": 4,
 "nbformat_minor": 2
}
