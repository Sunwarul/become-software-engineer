{
 "cells": [
  {
   "cell_type": "markdown",
   "metadata": {},
   "source": [
    "# Variables and Data Types"
   ]
  },
  {
   "cell_type": "code",
   "execution_count": null,
   "metadata": {
    "dotnet_interactive": {
     "language": "csharp"
    }
   },
   "outputs": [],
   "source": [
    "void print<T>(T input) { Console.WriteLine(input); }"
   ]
  },
  {
   "cell_type": "code",
   "execution_count": null,
   "metadata": {
    "dotnet_interactive": {
     "language": "csharp"
    }
   },
   "outputs": [
    {
     "name": "stdout",
     "output_type": "stream",
     "text": [
      "System.Int32\r\n",
      "System.Single\r\n",
      "System.Boolean\r\n"
     ]
    }
   ],
   "source": [
    "int x = 10;\n",
    "float y = 5.2f;\n",
    "bool haveAccess = true;\n",
    "\n",
    "print(x.GetType());\n",
    "print(y.GetType());\n",
    "print(haveAccess.GetType());"
   ]
  },
  {
   "cell_type": "code",
   "execution_count": null,
   "metadata": {
    "dotnet_interactive": {
     "language": "csharp"
    }
   },
   "outputs": [
    {
     "name": "stdout",
     "output_type": "stream",
     "text": [
      "Submission#88+Point\r\n"
     ]
    }
   ],
   "source": [
    "struct Point { public int X, Y; }\n",
    "Point p1;\n",
    "p1.X = 3;\n",
    "p1.Y = 4;\n",
    "print(p1);"
   ]
  }
 ],
 "metadata": {
  "kernelspec": {
   "display_name": ".NET (C#)",
   "language": "C#",
   "name": ".net-csharp"
  },
  "language_info": {
   "name": "C#"
  }
 },
 "nbformat": 4,
 "nbformat_minor": 2
}
