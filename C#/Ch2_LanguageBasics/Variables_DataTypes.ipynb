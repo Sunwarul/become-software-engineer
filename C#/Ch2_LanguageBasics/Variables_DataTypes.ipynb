{
 "cells": [
  {
   "cell_type": "markdown",
   "metadata": {},
   "source": [
    "# Variables and Data Types"
   ]
  },
  {
   "cell_type": "code",
   "execution_count": null,
   "metadata": {
    "dotnet_interactive": {
     "language": "csharp"
    }
   },
   "outputs": [],
   "source": [
    "void print<T>(T input) { Console.WriteLine(input); }"
   ]
  },
  {
   "cell_type": "code",
   "execution_count": null,
   "metadata": {
    "dotnet_interactive": {
     "language": "csharp"
    }
   },
   "outputs": [
    {
     "name": "stdout",
     "output_type": "stream",
     "text": [
      "Sizes of C# Primitive Data-Types:\r\n",
      "---------------------------------\r\n",
      "Range of `sbyte` is: -128 to 127\r\n",
      "Range of `short` is: -32768 to 32767\r\n",
      "Range of `int` is: -2147483648 to 2147483647\r\n",
      "Range of `int` is: -2147483648 to 2147483647\r\n",
      "Range of `long` is: -9223372036854775808 to 9223372036854775807\r\n",
      "Range of `long` is: -9.223372036854776E+18 to 9.223372036854776E+18\r\n",
      "Range of `float` is: -2147483648 to 2147483647\r\n",
      "Range of `float` is: -3.4028235E+38 to 3.4028235E+38\r\n",
      "Range of `double` is: -1.7976931348623157E+308 to 1.7976931348623157E+308\r\n",
      "Range of `decimal` is: -79228162514264337593543950335 to 79228162514264337593543950335\r\n",
      "4\r\n"
     ]
    }
   ],
   "source": [
    "print(\"Sizes of C# Primitive Data-Types:\");\n",
    "print(\"---------------------------------\");\n",
    "// Numeric \n",
    "// Integral - Signed\n",
    "print($\"Range of `sbyte` is: {sbyte.MinValue} to {sbyte.MaxValue}\");\n",
    "print($\"Range of `short` is: {short.MinValue} to {short.MaxValue}\");\n",
    "\n",
    "print($\"Range of `int` is: {int.MinValue} to {int.MaxValue}\");\n",
    "print($\"Range of `int` is: {(-Math.Pow(2, (sizeof(int)*8)-1))} to {Math.Pow(2, (sizeof(int)*8)-1)-1}\");\n",
    "\n",
    "print($\"Range of `long` is: {long.MinValue} to {long.MaxValue}\");\n",
    "print($\"Range of `long` is: {(-Math.Pow(2, (sizeof(long)*8)-1))} to {Math.Pow(2, (sizeof(long)*8)-1)-1}\");\n",
    "\n",
    "// print($\"Range of `float` is: {(-Math.Pow(2, (sizeof(float)*8)-1))} to {Math.Pow(2, (sizeof(float)*8)-1)-1}\");\n",
    "print($\"Range of `float` is: {float.MinValue} to {float.MaxValue}\");\n",
    "\n",
    "print($\"Range of `double` is: {double.MinValue} to {double.MaxValue}\");\n",
    "print($\"Range of `decimal` is: {decimal.MinValue} to {decimal.MaxValue}\");"
   ]
  },
  {
   "cell_type": "code",
   "execution_count": null,
   "metadata": {
    "dotnet_interactive": {
     "language": "csharp"
    }
   },
   "outputs": [
    {
     "name": "stdout",
     "output_type": "stream",
     "text": [
      "-2147483648\r\n"
     ]
    }
   ],
   "source": [
    "print(1 << 31);"
   ]
  },
  {
   "cell_type": "code",
   "execution_count": null,
   "metadata": {
    "dotnet_interactive": {
     "language": "csharp"
    }
   },
   "outputs": [
    {
     "name": "stdout",
     "output_type": "stream",
     "text": [
      "System.Byte\r\n",
      "System.Int16\r\n",
      "System.Int32\r\n",
      "System.Int64\r\n",
      "System.Single\r\n",
      "System.Boolean\r\n"
     ]
    }
   ],
   "source": [
    "// GetType()\n",
    "\n",
    "byte x_1 = 2;\n",
    "ushort x_2 = 10;\n",
    "short x = 10;\n",
    "int xx = 10;\n",
    "long xxx = 2343242432;\n",
    "float y = 5.2f;\n",
    "bool haveAccess = true;\n",
    "\n",
    "print(x_1.GetType());\n",
    "print(x.GetType());\n",
    "print(xx.GetType());\n",
    "print(xxx.GetType());\n",
    "print(y.GetType());\n",
    "print(haveAccess.GetType());"
   ]
  },
  {
   "cell_type": "code",
   "execution_count": null,
   "metadata": {
    "dotnet_interactive": {
     "language": "csharp"
    }
   },
   "outputs": [
    {
     "name": "stdout",
     "output_type": "stream",
     "text": [
      "7\r\n",
      "Submission#203+Point\r\n"
     ]
    }
   ],
   "source": [
    "// Struct\n",
    "struct Point { public int x, y; }\n",
    "\n",
    "Point p1;\n",
    "p1.x = 3;\n",
    "p1.y = 4;\n",
    "\n",
    "print(p1.x + p1.y);\n",
    "print(p1.GetType());"
   ]
  },
  {
   "cell_type": "code",
   "execution_count": null,
   "metadata": {
    "dotnet_interactive": {
     "language": "csharp"
    }
   },
   "outputs": [],
   "source": []
  }
 ],
 "metadata": {
  "kernelspec": {
   "display_name": ".NET (C#)",
   "language": "C#",
   "name": ".net-csharp"
  },
  "language_info": {
   "name": "C#"
  }
 },
 "nbformat": 4,
 "nbformat_minor": 2
}
