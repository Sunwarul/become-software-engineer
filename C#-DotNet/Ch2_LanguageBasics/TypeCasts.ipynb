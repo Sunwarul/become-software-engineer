{
 "cells": [
  {
   "cell_type": "code",
   "execution_count": null,
   "metadata": {
    "dotnet_interactive": {
     "language": "csharp"
    }
   },
   "outputs": [
    {
     "name": "stdout",
     "output_type": "stream",
     "text": [
      "4\r\n",
      "4\r\n",
      "1.23\r\n",
      "12.34\r\n"
     ]
    }
   ],
   "source": [
    "int x1 = 123_45;\n",
    "uint x2 = 123_45;\n",
    "\n",
    "float f1 = 4.5F;\n",
    "float f2 = 4.5f;\n",
    "\n",
    "double d1 = 2343.2D;\n",
    "double d2 = 2343.3d;\n",
    "\n",
    "decimal m1 = 1.2_3M;\n",
    "decimal m2 = 12.3_4M;\n",
    "\n",
    "// Casts\n",
    "int x3 = (int) f1;\n",
    "int x4 = (int) f2;\n",
    "int x5 = Convert.ToInt32(d1);\n",
    "\n",
    "Console.WriteLine(x3);\n",
    "Console.WriteLine(x4);\n",
    "Console.WriteLine(m1);\n",
    "Console.WriteLine(m2);"
   ]
  }
 ],
 "metadata": {
  "kernelspec": {
   "display_name": ".NET (C#)",
   "language": "C#",
   "name": ".net-csharp"
  },
  "language_info": {
   "name": "C#"
  }
 },
 "nbformat": 4,
 "nbformat_minor": 2
}
